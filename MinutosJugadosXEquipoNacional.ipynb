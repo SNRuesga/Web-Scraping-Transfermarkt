{
 "cells": [
  {
   "cell_type": "code",
   "execution_count": null,
   "id": "98c0d204",
   "metadata": {},
   "outputs": [],
   "source": [
    "## importamos las librerías necesarias\n",
    "import requests ## permite realizar solicitudes HTTP\n",
    "from bs4 import BeautifulSoup ## crea la \"sopa\", es decir, extrae el código de HTML de la página para poder obtener los datos \n",
    "import re ## busca patrones de texto\n",
    "import pandas as pd ##crea y manipula Data Frames"
   ]
  },
  {
   "cell_type": "code",
   "execution_count": null,
   "id": "9d2a5478",
   "metadata": {},
   "outputs": [],
   "source": [
    "## El siguiente código accede a la página del ranking FIFA del 9 de enero de 2023 y obtiene el nombre, enlace de perfil, enlace\n",
    "## del calendario de los primeros 25 equipos nacionales. Al final, guarda toda esa información en un diccionario y le agrega el\n",
    "## año de análisis.\n",
    "\n",
    "page= 'https://www.transfermarkt.mx/statistik/weltrangliste/statistik/stat/plus/0/galerie/0?datum=2023-01-09'\n",
    "headers = {'User-Agent' : 'Mozilla/5.0 (X11; Linux x86_64) AppleWebKit/537.36 (KHTML, like Gecko) Chrome/47.0.2526.106 Safari537.36'}\n",
    "page_tree = requests.get(page, headers=headers)\n",
    "soup = BeautifulSoup(page_tree.content, 'html.parser')\n",
    "table= soup.find('table', {'class':'items'})\n",
    "table_body= table.find('tbody')\n",
    "tds= table_body.find_all('td', {'class':'hauptlink'})\n",
    "seleccionlink={'Selección':[],'Link':[],'ScheLink':[], 'Year':[]}\n",
    "linksolo=[]\n",
    "linkfinal=[]\n",
    "tdsnecesarios=[]\n",
    "seleccion=[]\n",
    "for y in range(0, len(tds), 2):\n",
    "    tdsnecesarios.append(y)\n",
    "for j, te in enumerate(tds):\n",
    "    for sele in range(0, len(tdsnecesarios)):\n",
    "        if j==tdsnecesarios[sele]:\n",
    "            img=te.find('img')\n",
    "            a=te.find('a')\n",
    "            seleccion.append(img['alt'])\n",
    "            linksolo.append(a['href'])\n",
    "for i in range(0,len(linksolo)):\n",
    "    lin=linksolo[i].replace('startseite', 'spielplan')\n",
    "    linkfinal.append(lin)\n",
    "for l in range(0,len(seleccion)):\n",
    "    for year in range(2008, 2023):\n",
    "            y = str(year)\n",
    "            seleccionlink['Selección'].append(seleccion[l])\n",
    "            seleccionlink['Link'].append('https://www.transfermarkt.mx' + linksolo[l] + '?saison_id=' + y)\n",
    "            seleccionlink['Year'].append(y)\n",
    "            seleccionlink['ScheLink'].append('https://www.transfermarkt.mx' + linkfinal[l] + '/saison_id/' + y)"
   ]
  },
  {
   "cell_type": "code",
   "execution_count": null,
   "id": "cb4872dc",
   "metadata": {},
   "outputs": [],
   "source": [
    "## El siguiente código utiliza la información que obtuvimos en la celda anterior para obtener los minutos jugados por el equipo\n",
    "## nacional en un año específico.\n",
    "\n",
    "minutossele={'NationalTeam':[], 'Year':[], 'Year (T-1)':[],'Minutes':[]}\n",
    "for i in range(0, len(seleccionlink['Selección'])):    \n",
    "    selección = seleccionlink['Selección'][i]\n",
    "    añoconv = int(seleccionlink['Year'][i])+1\n",
    "    añomins = int(seleccionlink['Year'][i])\n",
    "    page = seleccionlink['ScheLink'][i]\n",
    "    headers = {'User-Agent' : 'Mozilla/5.0 (X11; Linux x86_64) AppleWebKit/537.36 (KHTML, like Gecko) Chrome/47.0.2526.106 Safari537.36'}\n",
    "    page_tree = requests.get(page, headers=headers)\n",
    "    soup = BeautifulSoup(page_tree.content, 'html.parser')\n",
    "    table = soup.find_all('div', {'class': 'responsive-table'})\n",
    "    tablas=[]\n",
    "    for row in table:\n",
    "        tabs=row.find('tbody')\n",
    "        tablas.append(tabs)\n",
    "    marcadores=[]\n",
    "    for row in tablas:\n",
    "        marcador=row.find_all('a',{'title':'Crónica'})\n",
    "        for row in marcador:\n",
    "            no= row.text\n",
    "            marcadores.append(no)\n",
    "    minutos=[]\n",
    "    for i in range(0,len(marcadores)):\n",
    "        extra=marcadores[i]\n",
    "        if 'pen.' in extra:\n",
    "            minutos.append(int(120))\n",
    "        elif 'prórr.' in extra:\n",
    "            minutos.append(int(120))\n",
    "        else:\n",
    "            minutos.append(int(90))\n",
    "    minutossele['NationalTeam'].append(selección)\n",
    "    minutossele['Year'].append(añoconv)\n",
    "    minutossele['Year (T-1)'].append(añomins)\n",
    "    minutossele['Minutes'].append(sum(minutos))\n"
   ]
  },
  {
   "cell_type": "code",
   "execution_count": null,
   "id": "37e9ea7a",
   "metadata": {},
   "outputs": [],
   "source": [
    "## Esta celda \"arregla\" los años de análisis\n",
    "for i in range(0, len(minutossele['Minutes'])):\n",
    "    minutossele['Year'][i]=minutossele['Year'][i]+1\n",
    "    minutossele['Year (T-1)'][i]=minutossele['Year (T-1)'][i]+1"
   ]
  },
  {
   "cell_type": "code",
   "execution_count": null,
   "id": "7a674f4f",
   "metadata": {
    "scrolled": true
   },
   "outputs": [],
   "source": [
    "minutos=pd.DataFrame(minutossele)"
   ]
  },
  {
   "cell_type": "code",
   "execution_count": null,
   "id": "5c2b1127",
   "metadata": {},
   "outputs": [],
   "source": [
    "minutos.to_excel('Nombre.xlsx', encoding='utf')"
   ]
  },
  {
   "cell_type": "code",
   "execution_count": null,
   "id": "4ccbea50",
   "metadata": {},
   "outputs": [],
   "source": []
  }
 ],
 "metadata": {
  "kernelspec": {
   "display_name": "Python 3 (ipykernel)",
   "language": "python",
   "name": "python3"
  },
  "language_info": {
   "codemirror_mode": {
    "name": "ipython",
    "version": 3
   },
   "file_extension": ".py",
   "mimetype": "text/x-python",
   "name": "python",
   "nbconvert_exporter": "python",
   "pygments_lexer": "ipython3",
   "version": "3.9.13"
  }
 },
 "nbformat": 4,
 "nbformat_minor": 5
}
