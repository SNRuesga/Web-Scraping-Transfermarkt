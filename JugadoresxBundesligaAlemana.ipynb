{
 "cells": [
  {
   "cell_type": "code",
   "execution_count": null,
   "id": "ce23208d",
   "metadata": {},
   "outputs": [],
   "source": [
    "## importamos las librerías necesarias\n",
    "import requests ## permite realizar solicitudes HTTP\n",
    "from bs4 import BeautifulSoup ## crea la \"sopa\", es decir, extrae el código de HTML de la página para poder obtener los datos \n",
    "import re ## busca patrones de texto\n",
    "import pandas as pd ##crea y manipula Data Frames"
   ]
  },
  {
   "cell_type": "code",
   "execution_count": null,
   "id": "2334ad48",
   "metadata": {},
   "outputs": [],
   "source": [
    "## El siguiente código crea una función que obtiene el nombre del club y el enlace a su perfil.\n",
    "def clubs (link):\n",
    "    page = link\n",
    "    headers = {'User-Agent' : 'Mozilla/5.0 (X11; Linux x86_64) AppleWebKit/537.36 (KHTML, like Gecko) Chrome/47.0.2526.106 Safari537.36'}\n",
    "    page_tree = requests.get(page, headers=headers)\n",
    "    soup = BeautifulSoup(page_tree.content, 'html.parser')\n",
    "    table = soup.find('table', {'class': 'items'})\n",
    "    t_body= table.find('tbody')\n",
    "    filas= t_body.find_all('td',{'class':'zentriert no-border-rechts'})\n",
    "    clubs={'Club':[], 'Link':[]}\n",
    "    for row in filas:\n",
    "        link = row.find('a').get('href')\n",
    "        club= row.find('img')\n",
    "        clubs['Link'].append('https://www.transfermarkt.mx' +link)\n",
    "        clubs['Club'].append(club['alt'])\n",
    "    return clubs"
   ]
  },
  {
   "cell_type": "code",
   "execution_count": null,
   "id": "81a05950",
   "metadata": {},
   "outputs": [],
   "source": [
    "## Este código crea una función que obtiene todos los jugadores que militaron en un club determinado durante un año específico.\n",
    "def players (link, club, year, pais):\n",
    "    page = link\n",
    "    headers = {'User-Agent' : 'Mozilla/5.0 (X11; Linux x86_64) AppleWebKit/537.36 (KHTML, like Gecko) Chrome/47.0.2526.106 Safari537.36'}\n",
    "    page_tree = requests.get(page, headers=headers)\n",
    "    soup = BeautifulSoup(page_tree.content, 'html.parser')\n",
    "    table = soup.find('table', {'class': 'items'})\n",
    "    t_body= table.find('tbody')\n",
    "    inline_tables=t_body.find_all('table', {'class':'inline-table'})\n",
    "    players={'Name':[], 'Club':[], 'Year':[], 'Pais':[]}\n",
    "    for row in inline_tables:\n",
    "            player = row.find('img')\n",
    "            players['Name'].append(player['alt'])\n",
    "    for i in range(len(players['Name'])):\n",
    "        players['Club'].append(club)\n",
    "        players['Year'].append(year)\n",
    "        players['Pais'].append(pais)\n",
    "    players=pd.DataFrame(players)\n",
    "    return players"
   ]
  },
  {
   "cell_type": "code",
   "execution_count": null,
   "id": "6fb5423e",
   "metadata": {},
   "outputs": [],
   "source": [
    "## Aplicamos la primera función para obtener los clubes\n",
    "liga_92=clubs('https://www.transfermarkt.mx/bundesliga/startseite/wettbewerb/L1/plus/?saison_id=1991')\n",
    "liga_93=clubs('https://www.transfermarkt.mx/bundesliga/startseite/wettbewerb/L1/plus/?saison_id=1992')\n",
    "liga_94=clubs('https://www.transfermarkt.mx/bundesliga/startseite/wettbewerb/L1/plus/?saison_id=1993')\n",
    "liga_95=clubs('https://www.transfermarkt.mx/bundesliga/startseite/wettbewerb/L1/plus/?saison_id=1994')\n",
    "liga_96=clubs('https://www.transfermarkt.mx/bundesliga/startseite/wettbewerb/L1/plus/?saison_id=1995')\n",
    "liga_97=clubs('https://www.transfermarkt.mx/bundesliga/startseite/wettbewerb/L1/plus/?saison_id=1996')\n",
    "liga_98=clubs('https://www.transfermarkt.mx/bundesliga/startseite/wettbewerb/L1/plus/?saison_id=1997')\n",
    "liga_99=clubs('https://www.transfermarkt.mx/bundesliga/startseite/wettbewerb/L1/plus/?saison_id=1998')\n",
    "liga_00=clubs('https://www.transfermarkt.mx/bundesliga/startseite/wettbewerb/L1/plus/?saison_id=1999')\n",
    "liga_01=clubs('https://www.transfermarkt.mx/bundesliga/startseite/wettbewerb/L1/plus/?saison_id=2000')\n",
    "liga_02=clubs('https://www.transfermarkt.mx/bundesliga/startseite/wettbewerb/L1/plus/?saison_id=2001')\n",
    "liga_03=clubs('https://www.transfermarkt.mx/bundesliga/startseite/wettbewerb/L1/plus/?saison_id=2002')\n",
    "liga_04=clubs('https://www.transfermarkt.mx/bundesliga/startseite/wettbewerb/L1/plus/?saison_id=2003')\n",
    "liga_05=clubs('https://www.transfermarkt.mx/bundesliga/startseite/wettbewerb/L1/plus/?saison_id=2004')\n",
    "liga_06=clubs('https://www.transfermarkt.mx/bundesliga/startseite/wettbewerb/L1/plus/?saison_id=2005')\n",
    "liga_07=clubs('https://www.transfermarkt.mx/bundesliga/startseite/wettbewerb/L1/plus/?saison_id=2006')\n",
    "liga_08=clubs('https://www.transfermarkt.mx/bundesliga/startseite/wettbewerb/L1/plus/?saison_id=2007')\n",
    "liga_09=clubs('https://www.transfermarkt.mx/bundesliga/startseite/wettbewerb/L1/plus/?saison_id=2008')\n",
    "liga_10=clubs('https://www.transfermarkt.mx/bundesliga/startseite/wettbewerb/L1/plus/?saison_id=2009')\n",
    "liga_11=clubs('https://www.transfermarkt.mx/bundesliga/startseite/wettbewerb/L1/plus/?saison_id=2010')\n",
    "liga_12=clubs('https://www.transfermarkt.mx/bundesliga/startseite/wettbewerb/L1/plus/?saison_id=2011')\n",
    "liga_13=clubs('https://www.transfermarkt.mx/bundesliga/startseite/wettbewerb/L1/plus/?saison_id=2012')\n",
    "liga_14=clubs('https://www.transfermarkt.mx/bundesliga/startseite/wettbewerb/L1/plus/?saison_id=2013')\n",
    "liga_15=clubs('https://www.transfermarkt.mx/bundesliga/startseite/wettbewerb/L1/plus/?saison_id=2014')\n",
    "liga_16=clubs('https://www.transfermarkt.mx/bundesliga/startseite/wettbewerb/L1/plus/?saison_id=2015')\n",
    "liga_17=clubs('https://www.transfermarkt.mx/bundesliga/startseite/wettbewerb/L1/plus/?saison_id=2016')\n",
    "liga_18=clubs('https://www.transfermarkt.mx/bundesliga/startseite/wettbewerb/L1/plus/?saison_id=2017')\n",
    "liga_19=clubs('https://www.transfermarkt.mx/bundesliga/startseite/wettbewerb/L1/plus/?saison_id=2018')\n",
    "liga_20=clubs('https://www.transfermarkt.mx/bundesliga/startseite/wettbewerb/L1/plus/?saison_id=2019')\n",
    "liga_21=clubs('https://www.transfermarkt.mx/bundesliga/startseite/wettbewerb/L1/plus/?saison_id=2020')\n",
    "liga_22=clubs('https://www.transfermarkt.mx/bundesliga/startseite/wettbewerb/L1/plus/?saison_id=2021')"
   ]
  },
  {
   "cell_type": "code",
   "execution_count": null,
   "id": "bc08fc27",
   "metadata": {},
   "outputs": [],
   "source": [
    "## Aplicamos la segunda función para cada año que necesitemos (este es solo un ejemplo)\n",
    "players_1=players(liga_92['Link'][0],liga_92['Club'][0],'1992','Alemania')\n",
    "players_2=players(liga_92['Link'][1],liga_92['Club'][1],'1992','Alemania')\n",
    "players_3=players(liga_92['Link'][2],liga_92['Club'][2],'1992','Alemania')\n",
    "players_4=players(liga_92['Link'][3],liga_92['Club'][3],'1992','Alemania')\n",
    "players_5=players(liga_92['Link'][4],liga_92['Club'][4],'1992','Alemania')\n",
    "players_6=players(liga_92['Link'][5],liga_92['Club'][5],'1992','Alemania')\n",
    "players_7=players(liga_92['Link'][6],liga_92['Club'][6],'1992','Alemania')\n",
    "players_8=players(liga_92['Link'][7],liga_92['Club'][7],'1992','Alemania')\n",
    "players_9=players(liga_92['Link'][8],liga_92['Club'][8],'1992','Alemania')\n",
    "players_10=players(liga_92['Link'][9],liga_92['Club'][9],'1992','Alemania')\n",
    "players_11=players(liga_92['Link'][10],liga_92['Club'][10],'1992','Alemania')\n",
    "players_12=players(liga_92['Link'][11],liga_92['Club'][11],'1992','Alemania')\n",
    "players_13=players(liga_92['Link'][12],liga_92['Club'][12],'1992','Alemania')\n",
    "players_14=players(liga_92['Link'][13],liga_92['Club'][13],'1992','Alemania')\n",
    "players_15=players(liga_92['Link'][14],liga_92['Club'][14],'1992','Alemania')\n",
    "players_16=players(liga_92['Link'][15],liga_92['Club'][15],'1992','Alemania')\n",
    "players_17=players(liga_92['Link'][16],liga_92['Club'][16],'1992','Alemania')\n",
    "players_18=players(liga_92['Link'][17],liga_92['Club'][17],'1992','Alemania')\n",
    "\n",
    "BundAlem_92= pd.concat([players_1,players_2,players_3,players_4,players_5,players_6,players_7,players_8,players_9,players_10,\n",
    "                      players_11,players_12,players_13,players_14,players_15,players_16,players_17,players_18],\n",
    "                     ignore_index= True)"
   ]
  },
  {
   "cell_type": "code",
   "execution_count": null,
   "id": "50ee2014",
   "metadata": {},
   "outputs": [],
   "source": [
    "Jugadores_BundAlem=pd.concat([BundAlem_92,BundAlem_93,BundAlem_94,BundAlem_95,BundAlem_96,BundAlem_97,BundAlem_98,BundAlem_99,\n",
    "                              BundAlem_00,BundAlem_01,BundAlem_02,BundAlem_03,BundAlem_04,BundAlem_05,BundAlem_06,BundAlem_07,\n",
    "                              BundAlem_08,BundAlem_09,BundAlem_10,BundAlem_11,BundAlem_12,BundAlem_13,BundAlem_14,BundAlem_15,\n",
    "                              BundAlem_16,BundAlem_17,BundAlem_18,BundAlem_19,BundAlem_20,BundAlem_21,BundAlem_22], \n",
    "                             ignore_index=True)"
   ]
  },
  {
   "cell_type": "code",
   "execution_count": null,
   "id": "75b6921b",
   "metadata": {},
   "outputs": [],
   "source": [
    "Jugadores_BundAlem.to_excel('Nombre.xlsx', encoding='utf-8')"
   ]
  },
  {
   "cell_type": "code",
   "execution_count": null,
   "id": "2f7a846a",
   "metadata": {},
   "outputs": [],
   "source": []
  }
 ],
 "metadata": {
  "kernelspec": {
   "display_name": "Python 3 (ipykernel)",
   "language": "python",
   "name": "python3"
  },
  "language_info": {
   "codemirror_mode": {
    "name": "ipython",
    "version": 3
   },
   "file_extension": ".py",
   "mimetype": "text/x-python",
   "name": "python",
   "nbconvert_exporter": "python",
   "pygments_lexer": "ipython3",
   "version": "3.9.13"
  }
 },
 "nbformat": 4,
 "nbformat_minor": 5
}
