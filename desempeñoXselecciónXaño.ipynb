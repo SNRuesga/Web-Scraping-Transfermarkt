{
 "cells": [
  {
   "cell_type": "code",
   "execution_count": null,
   "id": "858d381b",
   "metadata": {},
   "outputs": [],
   "source": [
    "## importamos las librerías necesarias\n",
    "import requests ## permite realizar solicitudes HTTP\n",
    "from bs4 import BeautifulSoup ## crea la \"sopa\", es decir, extrae el código de HTML de la página para poder obtener los datos \n",
    "import re ## busca patrones de texto\n",
    "import pandas as pd ##crea y manipula Data Frames"
   ]
  },
  {
   "cell_type": "code",
   "execution_count": null,
   "id": "22c3d7d8",
   "metadata": {},
   "outputs": [],
   "source": [
    "## El siguiente código crea una función para obtener la proporción de victorias, empates, derrotas y la diferencia de goles de\n",
    "## un equipo nacional específico en un año determinado. \n",
    "\n",
    "def perf(link, nat_team, year):\n",
    "    page = link\n",
    "    headers = {'User-Agent' : 'Mozilla/5.0 (X11; Linux x86_64) AppleWebKit/537.36 (KHTML, like Gecko) Chrome/47.0.2526.106 Safari537.36'}\n",
    "    page_tree = requests.get(page, headers=headers)\n",
    "    soup = BeautifulSoup(page_tree.content, 'html.parser')\n",
    "    table = soup.find_all('div', {'class': 'responsive-table'})\n",
    "    tablas=[]\n",
    "    for row in table:\n",
    "        tabs=row.find('tbody')\n",
    "        tablas.append(tabs)\n",
    "    resultados={'Marcador':[], 'Localidad':[]}\n",
    "    for row in tablas:\n",
    "        marcador=row.find_all('span')\n",
    "        localidad=row.find_all('td',{'class':'zentriert hauptlink'})\n",
    "        for row in marcador:\n",
    "            no= row.text\n",
    "            resultados['Marcador'].append(no)\n",
    "        for row in localidad:\n",
    "            l= row.text\n",
    "            resultados['Localidad'].append(l)\n",
    "    resultados['Marcador'] = [marcador.replace(' prórr.','') for marcador in resultados['Marcador']]\n",
    "    resultados['Marcador'] = [marcador.replace(' pen.','') for marcador in resultados['Marcador']]\n",
    "    resultados['Marcador'] = [marcador.replace('-','0') for marcador in resultados['Marcador']]\n",
    "    resultados= {k: [v for v in resultados[k] if v] for k in resultados}\n",
    "    marcador = [tuple(map(int, elem.replace(':', '').strip())) for elem in resultados['Marcador']]\n",
    "    goles = []\n",
    "    for i, localidad in enumerate(resultados['Localidad']):\n",
    "        if localidad == 'H':\n",
    "            goles.append(marcador[i][0] - marcador[i][1])\n",
    "        else:\n",
    "            goles.append(marcador[i][1] - marcador[i][0])\n",
    "    performance={'National Team':[], 'Year':[], 'Prop_V':[], 'Prop_E':[], 'Prop_D':[], 'GoalDiff':[]}\n",
    "    w=[]\n",
    "    d=[]\n",
    "    l=[]\n",
    "    for res in goles:\n",
    "        if res>0:\n",
    "            w.append(int('1'))\n",
    "        elif res==0:\n",
    "            d.append(int('1'))\n",
    "        elif res<0:\n",
    "            l.append(int('1'))\n",
    "    wins=sum(w)\n",
    "    draws=sum(d)\n",
    "    defeats=sum(l)\n",
    "    total=sum(w)+sum(d)+sum(l)\n",
    "    performance['Prop_V'].append((wins/total))\n",
    "    performance['Prop_E'].append((draws/total))\n",
    "    performance['Prop_D'].append((defeats/total))\n",
    "    performance['GoalDiff'].append(sum(goles))\n",
    "    performance['National Team'].append(nat_team)\n",
    "    performance['Year'].append(year)\n",
    "    performance=pd.DataFrame(performance)\n",
    "    return performance"
   ]
  },
  {
   "cell_type": "code",
   "execution_count": null,
   "id": "304b4129",
   "metadata": {},
   "outputs": [],
   "source": [
    "## En las siguientes celdas hacemos uso de la función que creamos en la celda anterior para cada equipo nacional (el siguiente\n",
    "## solo es el ejemplo de Brasil)"
   ]
  },
  {
   "cell_type": "markdown",
   "id": "3bf620ee",
   "metadata": {},
   "source": [
    "## Brasil"
   ]
  },
  {
   "cell_type": "code",
   "execution_count": null,
   "id": "5cf73ccb",
   "metadata": {},
   "outputs": [],
   "source": [
    "brasil_2000=perf('https://www.transfermarkt.mx/brasilien/spielplan/verein/3439/saison_id/1999', 'Brasil', '2000')\n",
    "brasil_2001=perf('https://www.transfermarkt.mx/brasilien/spielplan/verein/3439/saison_id/2000', 'Brasil', '2001')\n",
    "brasil_2002=perf('https://www.transfermarkt.mx/brasilien/spielplan/verein/3439/saison_id/2001', 'Brasil', '2002')\n",
    "brasil_2003=perf('https://www.transfermarkt.mx/brasilien/spielplan/verein/3439/saison_id/2002', 'Brasil', '2003')\n",
    "brasil_2004=perf('https://www.transfermarkt.mx/brasilien/spielplan/verein/3439/saison_id/2003', 'Brasil', '2004')\n",
    "brasil_2005=perf('https://www.transfermarkt.mx/brasilien/spielplan/verein/3439/saison_id/2004', 'Brasil', '2005')\n",
    "brasil_2006=perf('https://www.transfermarkt.mx/brasilien/spielplan/verein/3439/saison_id/2005', 'Brasil', '2006')\n",
    "brasil_2007=perf('https://www.transfermarkt.mx/brasilien/spielplan/verein/3439/saison_id/2006', 'Brasil', '2007')\n",
    "brasil_2008=perf('https://www.transfermarkt.mx/brasilien/spielplan/verein/3439/saison_id/2007', 'Brasil', '2008')\n",
    "brasil_2009=perf('https://www.transfermarkt.mx/brasilien/spielplan/verein/3439/saison_id/2008', 'Brasil', '2009')\n",
    "brasil_2010=perf('https://www.transfermarkt.mx/brasilien/spielplan/verein/3439/saison_id/2009', 'Brasil', '2010')\n",
    "brasil_2011=perf('https://www.transfermarkt.mx/brasilien/spielplan/verein/3439/saison_id/2010', 'Brasil', '2011')\n",
    "brasil_2012=perf('https://www.transfermarkt.mx/brasilien/spielplan/verein/3439/saison_id/2011', 'Brasil', '2012')\n",
    "brasil_2013=perf('https://www.transfermarkt.mx/brasilien/spielplan/verein/3439/saison_id/2012', 'Brasil', '2013')\n",
    "brasil_2014=perf('https://www.transfermarkt.mx/brasilien/spielplan/verein/3439/saison_id/2013', 'Brasil', '2014')\n",
    "brasil_2015=perf('https://www.transfermarkt.mx/brasilien/spielplan/verein/3439/saison_id/2014', 'Brasil', '2015')\n",
    "brasil_2016=perf('https://www.transfermarkt.mx/brasilien/spielplan/verein/3439/saison_id/2015', 'Brasil', '2016')\n",
    "brasil_2017=perf('https://www.transfermarkt.mx/brasilien/spielplan/verein/3439/saison_id/2016', 'Brasil', '2017')\n",
    "brasil_2018=perf('https://www.transfermarkt.mx/brasilien/spielplan/verein/3439/saison_id/2017', 'Brasil', '2018')\n",
    "brasil_2019=perf('https://www.transfermarkt.mx/brasilien/spielplan/verein/3439/saison_id/2018', 'Brasil', '2019')\n",
    "brasil_2020=perf('https://www.transfermarkt.mx/brasilien/spielplan/verein/3439/saison_id/2019', 'Brasil', '2020')\n",
    "brasil_2021=perf('https://www.transfermarkt.mx/brasilien/spielplan/verein/3439/saison_id/2020', 'Brasil', '2021')\n",
    "brasil_2022=perf('https://www.transfermarkt.mx/brasilien/spielplan/verein/3439/saison_id/2021', 'Brasil', '2022')"
   ]
  },
  {
   "cell_type": "code",
   "execution_count": null,
   "id": "4350b428",
   "metadata": {},
   "outputs": [],
   "source": [
    "brasil_completo= pd.concat([brasil_2000, brasil_2001, brasil_2002, brasil_2003, brasil_2004, brasil_2005, brasil_2006, \n",
    "                            brasil_2007, brasil_2008, brasil_2009, brasil_2010, brasil_2011, brasil_2012, brasil_2013, \n",
    "                            brasil_2014, brasil_2015, brasil_2016, brasil_2017, brasil_2018, brasil_2019, brasil_2020, \n",
    "                            brasil_2021, brasil_2022], ignore_index=True)"
   ]
  },
  {
   "cell_type": "code",
   "execution_count": null,
   "id": "be45b2fb",
   "metadata": {},
   "outputs": [],
   "source": [
    "brasil_completo.to_excel('Nombre.xlsx', encoding='utf-8')"
   ]
  }
 ],
 "metadata": {
  "kernelspec": {
   "display_name": "Python 3 (ipykernel)",
   "language": "python",
   "name": "python3"
  },
  "language_info": {
   "codemirror_mode": {
    "name": "ipython",
    "version": 3
   },
   "file_extension": ".py",
   "mimetype": "text/x-python",
   "name": "python",
   "nbconvert_exporter": "python",
   "pygments_lexer": "ipython3",
   "version": "3.9.13"
  }
 },
 "nbformat": 4,
 "nbformat_minor": 5
}
